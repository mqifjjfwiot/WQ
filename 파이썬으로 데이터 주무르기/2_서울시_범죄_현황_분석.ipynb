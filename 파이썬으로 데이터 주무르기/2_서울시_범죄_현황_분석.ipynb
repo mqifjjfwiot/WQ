{
  "nbformat": 4,
  "nbformat_minor": 0,
  "metadata": {
    "colab": {
      "provenance": [],
      "authorship_tag": "ABX9TyNn9qn4wL3Okz7Wsrz2lLD/",
      "include_colab_link": true
    },
    "kernelspec": {
      "name": "python3",
      "display_name": "Python 3"
    },
    "language_info": {
      "name": "python"
    }
  },
  "cells": [
    {
      "cell_type": "markdown",
      "metadata": {
        "id": "view-in-github",
        "colab_type": "text"
      },
      "source": [
        "<a href=\"https://colab.research.google.com/github/mqifjjfwiot/WQ/blob/main/%ED%8C%8C%EC%9D%B4%EC%8D%AC%EC%9C%BC%EB%A1%9C%20%EB%8D%B0%EC%9D%B4%ED%84%B0%20%EC%A3%BC%EB%AC%B4%EB%A5%B4%EA%B8%B0/2_%EC%84%9C%EC%9A%B8%EC%8B%9C_%EB%B2%94%EC%A3%84_%ED%98%84%ED%99%A9_%EB%B6%84%EC%84%9D.ipynb\" target=\"_parent\"><img src=\"https://colab.research.google.com/assets/colab-badge.svg\" alt=\"Open In Colab\"/></a>"
      ]
    },
    {
      "cell_type": "code",
      "execution_count": null,
      "metadata": {
        "id": "7uKVrlDlfMOd"
      },
      "outputs": [],
      "source": []
    }
  ]
}
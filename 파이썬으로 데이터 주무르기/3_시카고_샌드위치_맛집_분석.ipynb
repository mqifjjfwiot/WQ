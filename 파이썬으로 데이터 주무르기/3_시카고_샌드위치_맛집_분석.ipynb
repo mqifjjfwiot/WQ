{
  "nbformat": 4,
  "nbformat_minor": 0,
  "metadata": {
    "colab": {
      "provenance": [],
      "authorship_tag": "ABX9TyPZ18dCVdydvs/BfLYkWzNf",
      "include_colab_link": true
    },
    "kernelspec": {
      "name": "python3",
      "display_name": "Python 3"
    },
    "language_info": {
      "name": "python"
    }
  },
  "cells": [
    {
      "cell_type": "markdown",
      "metadata": {
        "id": "view-in-github",
        "colab_type": "text"
      },
      "source": [
        "<a href=\"https://colab.research.google.com/github/mqifjjfwiot/WQ/blob/main/%ED%8C%8C%EC%9D%B4%EC%8D%AC%EC%9C%BC%EB%A1%9C%20%EB%8D%B0%EC%9D%B4%ED%84%B0%20%EC%A3%BC%EB%AC%B4%EB%A5%B4%EA%B8%B0/3_%EC%8B%9C%EC%B9%B4%EA%B3%A0_%EC%83%8C%EB%93%9C%EC%9C%84%EC%B9%98_%EB%A7%9B%EC%A7%91_%EB%B6%84%EC%84%9D.ipynb\" target=\"_parent\"><img src=\"https://colab.research.google.com/assets/colab-badge.svg\" alt=\"Open In Colab\"/></a>"
      ]
    },
    {
      "cell_type": "code",
      "source": [
        "from bs4 import BeautifulSoup"
      ],
      "metadata": {
        "id": "6dFhWBF4hz7k"
      },
      "execution_count": null,
      "outputs": []
    },
    {
      "cell_type": "code",
      "source": [
        "from google.colab import drive\n",
        "drive.mount('/content/drive')"
      ],
      "metadata": {
        "colab": {
          "base_uri": "https://localhost:8080/"
        },
        "id": "xU9xNINo5p33",
        "outputId": "b182fbdc-46ff-4d91-ccf1-0a83f8f0a19a"
      },
      "execution_count": null,
      "outputs": [
        {
          "output_type": "stream",
          "name": "stdout",
          "text": [
            "Mounted at /content/drive\n"
          ]
        }
      ]
    },
    {
      "cell_type": "code",
      "execution_count": null,
      "metadata": {
        "id": "fKFqt5QhfR-y"
      },
      "outputs": [],
      "source": [
        "# 02. crime_in_Seoul_include_gu_name.csv\n",
        "crime_anal_raw = pd.read_csv('/content/drive/MyDrive/Colab Notebooks/WQ/파이썬으로 데이터 주무르기 4주완성/Data/02. crime_in_Seoul_include_gu_name.csv', encoding = 'utf-8', index_col = 0)\n",
        "crime_anal_raw.head()"
      ]
    },
    {
      "cell_type": "code",
      "source": [
        "# r : 읽기전용. 수정불가. read() : '읽기모드'로 '연' 파일 '읽기'. 문자열로 반환\n",
        "# HTML(xml도 가능) 문서를 BeautifulSoup 객체로 생성, prettify() : html문서를 말그대로 예쁘게 출력하는 함수\n",
        "page = open(\"/content/drive/MyDrive/Colab Notebooks/WQ/파이썬으로 데이터 주무르기 4주완성/Data/03. test_first.html\", \"r\").read()\n",
        "soup = BeautifulSoup(page, 'html.parser')\n",
        "print(soup.prettify())"
      ],
      "metadata": {
        "colab": {
          "base_uri": "https://localhost:8080/"
        },
        "id": "kBYwDjx45ZRU",
        "outputId": "ab07e038-8fbc-4e6b-8e59-3cc72065e6bf"
      },
      "execution_count": null,
      "outputs": [
        {
          "output_type": "stream",
          "name": "stdout",
          "text": [
            "<!DOCTYPE html>\n",
            "<html>\n",
            " <head>\n",
            "  <title>\n",
            "   Very Simple HTML Code by PinkWink\n",
            "  </title>\n",
            " </head>\n",
            " <body>\n",
            "  <div>\n",
            "   <p class=\"inner-text first-item\" id=\"first\">\n",
            "    Happy PinkWink.\n",
            "    <a href=\"http://www.pinkwink.kr\" id=\"pw-link\">\n",
            "     PinkWink\n",
            "    </a>\n",
            "   </p>\n",
            "   <p class=\"inner-text second-item\">\n",
            "    Happy Data Science.\n",
            "    <a href=\"https://www.python.org\" id=\"py-link\">\n",
            "     Python\n",
            "    </a>\n",
            "   </p>\n",
            "  </div>\n",
            "  <p class=\"outer-text first-item\" id=\"second\">\n",
            "   <b>\n",
            "    Data Science is funny.\n",
            "   </b>\n",
            "  </p>\n",
            "  <p class=\"outer-text\">\n",
            "   <b>\n",
            "    All I need is Love.\n",
            "   </b>\n",
            "  </p>\n",
            " </body>\n",
            "</html>\n"
          ]
        }
      ]
    },
    {
      "cell_type": "code",
      "source": [
        "# children : html객체에 포함된 한단계 아래 태그들\n",
        "list(soup.children)"
      ],
      "metadata": {
        "colab": {
          "base_uri": "https://localhost:8080/"
        },
        "id": "AC8grK4n6GPi",
        "outputId": "22d35b4a-bdfa-48aa-8b86-b7810df2149b"
      },
      "execution_count": null,
      "outputs": [
        {
          "output_type": "execute_result",
          "data": {
            "text/plain": [
              "['html',\n",
              " '\\n',\n",
              " <html>\n",
              " <head>\n",
              " <title>Very Simple HTML Code by PinkWink</title>\n",
              " </head>\n",
              " <body>\n",
              " <div>\n",
              " <p class=\"inner-text first-item\" id=\"first\">\n",
              "                 Happy PinkWink.\n",
              "                 <a href=\"http://www.pinkwink.kr\" id=\"pw-link\">PinkWink</a>\n",
              " </p>\n",
              " <p class=\"inner-text second-item\">\n",
              "                 Happy Data Science.\n",
              "                 <a href=\"https://www.python.org\" id=\"py-link\">Python</a>\n",
              " </p>\n",
              " </div>\n",
              " <p class=\"outer-text first-item\" id=\"second\">\n",
              " <b>\n",
              "                 Data Science is funny.\n",
              "             </b>\n",
              " </p>\n",
              " <p class=\"outer-text\">\n",
              " <b>\n",
              "                 All I need is Love.\n",
              "             </b>\n",
              " </p>\n",
              " </body>\n",
              " </html>]"
            ]
          },
          "metadata": {},
          "execution_count": 18
        }
      ]
    },
    {
      "cell_type": "code",
      "source": [
        "# 본체 덩어리(html태그)가 통째로 들어가 있음. 단순히 문자열이 아닌 html 형식 파일.\n",
        "html = list(soup.children)[2]\n",
        "html"
      ],
      "metadata": {
        "colab": {
          "base_uri": "https://localhost:8080/"
        },
        "id": "FLlElexh602Y",
        "outputId": "02337562-e7e8-4189-cb14-4591718ec5f4"
      },
      "execution_count": null,
      "outputs": [
        {
          "output_type": "execute_result",
          "data": {
            "text/plain": [
              "<html>\n",
              "<head>\n",
              "<title>Very Simple HTML Code by PinkWink</title>\n",
              "</head>\n",
              "<body>\n",
              "<div>\n",
              "<p class=\"inner-text first-item\" id=\"first\">\n",
              "                Happy PinkWink.\n",
              "                <a href=\"http://www.pinkwink.kr\" id=\"pw-link\">PinkWink</a>\n",
              "</p>\n",
              "<p class=\"inner-text second-item\">\n",
              "                Happy Data Science.\n",
              "                <a href=\"https://www.python.org\" id=\"py-link\">Python</a>\n",
              "</p>\n",
              "</div>\n",
              "<p class=\"outer-text first-item\" id=\"second\">\n",
              "<b>\n",
              "                Data Science is funny.\n",
              "            </b>\n",
              "</p>\n",
              "<p class=\"outer-text\">\n",
              "<b>\n",
              "                All I need is Love.\n",
              "            </b>\n",
              "</p>\n",
              "</body>\n",
              "</html>"
            ]
          },
          "metadata": {},
          "execution_count": 19
        }
      ]
    },
    {
      "cell_type": "code",
      "source": [
        "# 단순 문자열이 아니기 때문에 또 분해 가능.\n",
        "# html = list(soup.children)[2].children\n",
        "list(html.children)"
      ],
      "metadata": {
        "colab": {
          "base_uri": "https://localhost:8080/"
        },
        "id": "TMN_k0WZ8Crp",
        "outputId": "431331d0-8f1e-4dd0-be6c-3cd4f5e33b92"
      },
      "execution_count": null,
      "outputs": [
        {
          "output_type": "execute_result",
          "data": {
            "text/plain": [
              "['\\n',\n",
              " <head>\n",
              " <title>Very Simple HTML Code by PinkWink</title>\n",
              " </head>,\n",
              " '\\n',\n",
              " <body>\n",
              " <div>\n",
              " <p class=\"inner-text first-item\" id=\"first\">\n",
              "                 Happy PinkWink.\n",
              "                 <a href=\"http://www.pinkwink.kr\" id=\"pw-link\">PinkWink</a>\n",
              " </p>\n",
              " <p class=\"inner-text second-item\">\n",
              "                 Happy Data Science.\n",
              "                 <a href=\"https://www.python.org\" id=\"py-link\">Python</a>\n",
              " </p>\n",
              " </div>\n",
              " <p class=\"outer-text first-item\" id=\"second\">\n",
              " <b>\n",
              "                 Data Science is funny.\n",
              "             </b>\n",
              " </p>\n",
              " <p class=\"outer-text\">\n",
              " <b>\n",
              "                 All I need is Love.\n",
              "             </b>\n",
              " </p>\n",
              " </body>,\n",
              " '\\n']"
            ]
          },
          "metadata": {},
          "execution_count": 20
        }
      ]
    },
    {
      "cell_type": "code",
      "source": [
        "# ['\\n',\n",
        "#\n",
        "#  <head>\n",
        "#   <title>Very Simple HTML Code by PinkWink</title>\n",
        "#  </head>,\n",
        "#\n",
        "#  '\\n',\n",
        "#\n",
        "#  <body>\n",
        "body = list(html.children)[3]\n",
        "body"
      ],
      "metadata": {
        "colab": {
          "base_uri": "https://localhost:8080/"
        },
        "id": "UfzjCM9J8d0J",
        "outputId": "b4cc2885-083b-4e3d-f497-70e12c9ca443"
      },
      "execution_count": null,
      "outputs": [
        {
          "output_type": "execute_result",
          "data": {
            "text/plain": [
              "<body>\n",
              "<div>\n",
              "<p class=\"inner-text first-item\" id=\"first\">\n",
              "                Happy PinkWink.\n",
              "                <a href=\"http://www.pinkwink.kr\" id=\"pw-link\">PinkWink</a>\n",
              "</p>\n",
              "<p class=\"inner-text second-item\">\n",
              "                Happy Data Science.\n",
              "                <a href=\"https://www.python.org\" id=\"py-link\">Python</a>\n",
              "</p>\n",
              "</div>\n",
              "<p class=\"outer-text first-item\" id=\"second\">\n",
              "<b>\n",
              "                Data Science is funny.\n",
              "            </b>\n",
              "</p>\n",
              "<p class=\"outer-text\">\n",
              "<b>\n",
              "                All I need is Love.\n",
              "            </b>\n",
              "</p>\n",
              "</body>"
            ]
          },
          "metadata": {},
          "execution_count": 21
        }
      ]
    },
    {
      "cell_type": "code",
      "source": [
        "# body태그를 그냥 찾아갈수도 있다.\n",
        "# 단, 처음 만나는 태그만 찾아오기 때문에 여럿 사용되는 태그를 찾을때는 주의해야함\n",
        "soup.body"
      ],
      "metadata": {
        "colab": {
          "base_uri": "https://localhost:8080/"
        },
        "id": "mJYrZUGD7bUd",
        "outputId": "3481bcff-f651-479c-dd75-75bd2e66c628"
      },
      "execution_count": null,
      "outputs": [
        {
          "output_type": "execute_result",
          "data": {
            "text/plain": [
              "<body>\n",
              "<div>\n",
              "<p class=\"inner-text first-item\" id=\"first\">\n",
              "                Happy PinkWink.\n",
              "                <a href=\"http://www.pinkwink.kr\" id=\"pw-link\">PinkWink</a>\n",
              "</p>\n",
              "<p class=\"inner-text second-item\">\n",
              "                Happy Data Science.\n",
              "                <a href=\"https://www.python.org\" id=\"py-link\">Python</a>\n",
              "</p>\n",
              "</div>\n",
              "<p class=\"outer-text first-item\" id=\"second\">\n",
              "<b>\n",
              "                Data Science is funny.\n",
              "            </b>\n",
              "</p>\n",
              "<p class=\"outer-text\">\n",
              "<b>\n",
              "                All I need is Love.\n",
              "            </b>\n",
              "</p>\n",
              "</body>"
            ]
          },
          "metadata": {},
          "execution_count": 22
        }
      ]
    },
    {
      "cell_type": "code",
      "source": [
        "# 당연히, body안에서도 여러 태그들을 볼 수 있고, 찾을수 있다.\n",
        "list(body.children)"
      ],
      "metadata": {
        "colab": {
          "base_uri": "https://localhost:8080/"
        },
        "id": "wObsFVmT9jfx",
        "outputId": "e3336b12-6ffd-42ef-f404-fe92101b9ee4"
      },
      "execution_count": null,
      "outputs": [
        {
          "output_type": "execute_result",
          "data": {
            "text/plain": [
              "['\\n',\n",
              " <div>\n",
              " <p class=\"inner-text first-item\" id=\"first\">\n",
              "                 Happy PinkWink.\n",
              "                 <a href=\"http://www.pinkwink.kr\" id=\"pw-link\">PinkWink</a>\n",
              " </p>\n",
              " <p class=\"inner-text second-item\">\n",
              "                 Happy Data Science.\n",
              "                 <a href=\"https://www.python.org\" id=\"py-link\">Python</a>\n",
              " </p>\n",
              " </div>,\n",
              " '\\n',\n",
              " <p class=\"outer-text first-item\" id=\"second\">\n",
              " <b>\n",
              "                 Data Science is funny.\n",
              "             </b>\n",
              " </p>,\n",
              " '\\n',\n",
              " <p class=\"outer-text\">\n",
              " <b>\n",
              "                 All I need is Love.\n",
              "             </b>\n",
              " </p>,\n",
              " '\\n']"
            ]
          },
          "metadata": {},
          "execution_count": 23
        }
      ]
    },
    {
      "cell_type": "code",
      "source": [
        "# 자주쓰는 명령어. 내용물을 찾고자 하는 경우가 많기 때문에 p태그 같은걸 많이 쓰는데 .p로는 못찾는다. 너무 자주 써서.\n",
        "# find_all() : 태그 전부 찾기\n",
        "soup.find_all('p')"
      ],
      "metadata": {
        "colab": {
          "base_uri": "https://localhost:8080/"
        },
        "id": "7WVj092i9kAk",
        "outputId": "2e099ebe-f70c-4885-9694-45c5a540ffef"
      },
      "execution_count": null,
      "outputs": [
        {
          "output_type": "execute_result",
          "data": {
            "text/plain": [
              "[<p class=\"inner-text first-item\" id=\"first\">\n",
              "                 Happy PinkWink.\n",
              "                 <a href=\"http://www.pinkwink.kr\" id=\"pw-link\">PinkWink</a>\n",
              " </p>,\n",
              " <p class=\"inner-text second-item\">\n",
              "                 Happy Data Science.\n",
              "                 <a href=\"https://www.python.org\" id=\"py-link\">Python</a>\n",
              " </p>,\n",
              " <p class=\"outer-text first-item\" id=\"second\">\n",
              " <b>\n",
              "                 Data Science is funny.\n",
              "             </b>\n",
              " </p>,\n",
              " <p class=\"outer-text\">\n",
              " <b>\n",
              "                 All I need is Love.\n",
              "             </b>\n",
              " </p>]"
            ]
          },
          "metadata": {},
          "execution_count": 24
        }
      ]
    },
    {
      "cell_type": "code",
      "source": [
        "# find() : 첫번째 찾기\n",
        "soup.find('p')"
      ],
      "metadata": {
        "colab": {
          "base_uri": "https://localhost:8080/"
        },
        "id": "So3WpzHmANS2",
        "outputId": "9f3ee71e-c1ba-48ee-bd86-614076a2c40a"
      },
      "execution_count": null,
      "outputs": [
        {
          "output_type": "execute_result",
          "data": {
            "text/plain": [
              "<p class=\"inner-text first-item\" id=\"first\">\n",
              "                Happy PinkWink.\n",
              "                <a href=\"http://www.pinkwink.kr\" id=\"pw-link\">PinkWink</a>\n",
              "</p>"
            ]
          },
          "metadata": {},
          "execution_count": 25
        }
      ]
    },
    {
      "cell_type": "code",
      "source": [
        "# 당연히 똑같이 나온다\n",
        "soup.p"
      ],
      "metadata": {
        "colab": {
          "base_uri": "https://localhost:8080/"
        },
        "id": "f-Otcqp8AYjj",
        "outputId": "d4f8d304-546f-454f-b4fe-2b33bb58098b"
      },
      "execution_count": null,
      "outputs": [
        {
          "output_type": "execute_result",
          "data": {
            "text/plain": [
              "<p class=\"inner-text first-item\" id=\"first\">\n",
              "                Happy PinkWink.\n",
              "                <a href=\"http://www.pinkwink.kr\" id=\"pw-link\">PinkWink</a>\n",
              "</p>"
            ]
          },
          "metadata": {},
          "execution_count": 26
        }
      ]
    },
    {
      "cell_type": "code",
      "source": [
        "# 클래스를 기준으로 찾는다.\n",
        "# 어떤 태그의 클래스인지 신경쓰지 않고 클래스만 탐색\n",
        "soup.find_all(class_=\"outer-text\")"
      ],
      "metadata": {
        "colab": {
          "base_uri": "https://localhost:8080/"
        },
        "id": "J6siB0PiAaLF",
        "outputId": "450e8bec-b5ca-4db1-baf9-3bd6b42d7fde"
      },
      "execution_count": null,
      "outputs": [
        {
          "output_type": "execute_result",
          "data": {
            "text/plain": [
              "[<p class=\"outer-text first-item\" id=\"second\">\n",
              " <b>\n",
              "                 Data Science is funny.\n",
              "             </b>\n",
              " </p>,\n",
              " <p class=\"outer-text\">\n",
              " <b>\n",
              "                 All I need is Love.\n",
              "             </b>\n",
              " </p>]"
            ]
          },
          "metadata": {},
          "execution_count": 27
        }
      ]
    },
    {
      "cell_type": "code",
      "source": [
        "# p태그의 클래스로 한정지어 탐색\n",
        "soup.find_all('p',class_=\"outer-text\")"
      ],
      "metadata": {
        "colab": {
          "base_uri": "https://localhost:8080/"
        },
        "id": "kN0fyWgxBW6I",
        "outputId": "93805ac8-a10c-4c3d-ddd3-dbe0c737a93a"
      },
      "execution_count": null,
      "outputs": [
        {
          "output_type": "execute_result",
          "data": {
            "text/plain": [
              "[<p class=\"outer-text first-item\" id=\"second\">\n",
              " <b>\n",
              "                 Data Science is funny.\n",
              "             </b>\n",
              " </p>,\n",
              " <p class=\"outer-text\">\n",
              " <b>\n",
              "                 All I need is Love.\n",
              "             </b>\n",
              " </p>]"
            ]
          },
          "metadata": {},
          "execution_count": 28
        }
      ]
    },
    {
      "cell_type": "code",
      "source": [
        "# id 기반 탐색\n",
        "soup.find_all(id='first')"
      ],
      "metadata": {
        "colab": {
          "base_uri": "https://localhost:8080/"
        },
        "id": "RkewsWVhYhBn",
        "outputId": "45877d5e-19c1-4d14-8acf-07bfc8d94a6f"
      },
      "execution_count": null,
      "outputs": [
        {
          "output_type": "execute_result",
          "data": {
            "text/plain": [
              "[<p class=\"inner-text first-item\" id=\"first\">\n",
              "                 Happy PinkWink.\n",
              "                 <a href=\"http://www.pinkwink.kr\" id=\"pw-link\">PinkWink</a>\n",
              " </p>]"
            ]
          },
          "metadata": {},
          "execution_count": 29
        }
      ]
    },
    {
      "cell_type": "code",
      "source": [
        "# head태그 바로 다음에 오는 요소가 무엇인가를 검색.\n",
        "soup.head.next_sibling"
      ],
      "metadata": {
        "colab": {
          "base_uri": "https://localhost:8080/",
          "height": 35
        },
        "id": "s4dWqNNzYoKW",
        "outputId": "809a0a5a-7ec5-490f-b330-8fe6d97d10d5"
      },
      "execution_count": null,
      "outputs": [
        {
          "output_type": "execute_result",
          "data": {
            "text/plain": [
              "'\\n'"
            ],
            "application/vnd.google.colaboratory.intrinsic+json": {
              "type": "string"
            }
          },
          "metadata": {},
          "execution_count": 30
        }
      ]
    },
    {
      "cell_type": "code",
      "source": [
        "# 줄바꿈 문자 다음에 오는 요소\n",
        "soup.head.next_sibling.next_sibling"
      ],
      "metadata": {
        "colab": {
          "base_uri": "https://localhost:8080/"
        },
        "id": "3jqIVGlDY__6",
        "outputId": "422bab9f-c8ea-4a07-d1e6-f08728a3ebe3"
      },
      "execution_count": null,
      "outputs": [
        {
          "output_type": "execute_result",
          "data": {
            "text/plain": [
              "<body>\n",
              "<div>\n",
              "<p class=\"inner-text first-item\" id=\"first\">\n",
              "                Happy PinkWink.\n",
              "                <a href=\"http://www.pinkwink.kr\" id=\"pw-link\">PinkWink</a>\n",
              "</p>\n",
              "<p class=\"inner-text second-item\">\n",
              "                Happy Data Science.\n",
              "                <a href=\"https://www.python.org\" id=\"py-link\">Python</a>\n",
              "</p>\n",
              "</div>\n",
              "<p class=\"outer-text first-item\" id=\"second\">\n",
              "<b>\n",
              "                Data Science is funny.\n",
              "            </b>\n",
              "</p>\n",
              "<p class=\"outer-text\">\n",
              "<b>\n",
              "                All I need is Love.\n",
              "            </b>\n",
              "</p>\n",
              "</body>"
            ]
          },
          "metadata": {},
          "execution_count": 31
        }
      ]
    },
    {
      "cell_type": "code",
      "source": [
        "body.p"
      ],
      "metadata": {
        "colab": {
          "base_uri": "https://localhost:8080/"
        },
        "id": "ELQtN7chZGSV",
        "outputId": "5665c61d-7f0e-45cd-8b1e-0fb6824076db"
      },
      "execution_count": null,
      "outputs": [
        {
          "output_type": "execute_result",
          "data": {
            "text/plain": [
              "<p class=\"inner-text first-item\" id=\"first\">\n",
              "                Happy PinkWink.\n",
              "                <a href=\"http://www.pinkwink.kr\" id=\"pw-link\">PinkWink</a>\n",
              "</p>"
            ]
          },
          "metadata": {},
          "execution_count": 32
        }
      ]
    },
    {
      "cell_type": "code",
      "source": [
        "# body.p 다음에 뭐가 없는데 넘겼다 -> 다음 p로 넘어감. 한번 쓰면 줄바꿈문자 나와서\n",
        "body.p.next_sibling.next_sibling"
      ],
      "metadata": {
        "colab": {
          "base_uri": "https://localhost:8080/"
        },
        "id": "ccA0pOoEZVqm",
        "outputId": "227a45b8-f7ed-4357-de50-a063763c7994"
      },
      "execution_count": null,
      "outputs": [
        {
          "output_type": "execute_result",
          "data": {
            "text/plain": [
              "<p class=\"inner-text second-item\">\n",
              "                Happy Data Science.\n",
              "                <a href=\"https://www.python.org\" id=\"py-link\">Python</a>\n",
              "</p>"
            ]
          },
          "metadata": {},
          "execution_count": 33
        }
      ]
    },
    {
      "cell_type": "code",
      "source": [
        "# tag 모양, 이름같은 옵션들 치우고 내용물만 가져오는 함수\n",
        "for each_tag in soup.find_all('p'):\n",
        "  print(each_tag.get_text())"
      ],
      "metadata": {
        "colab": {
          "base_uri": "https://localhost:8080/"
        },
        "id": "QcbjNjf3ZbO8",
        "outputId": "89a67d78-640e-4a25-c7ea-9356a3a99433"
      },
      "execution_count": null,
      "outputs": [
        {
          "output_type": "stream",
          "name": "stdout",
          "text": [
            "\n",
            "                Happy PinkWink.\n",
            "                PinkWink\n",
            "\n",
            "\n",
            "                Happy Data Science.\n",
            "                Python\n",
            "\n",
            "\n",
            "\n",
            "                Data Science is funny.\n",
            "            \n",
            "\n",
            "\n",
            "\n",
            "                All I need is Love.\n",
            "            \n",
            "\n"
          ]
        }
      ]
    },
    {
      "cell_type": "code",
      "source": [
        "# body전체에서 쓰면 태그 자리에 줄바꿈문자로 드러남\n",
        "body.get_text()"
      ],
      "metadata": {
        "colab": {
          "base_uri": "https://localhost:8080/",
          "height": 53
        },
        "id": "Y004PSvbZmYJ",
        "outputId": "0d3e3de3-3d9f-4749-b130-5821f3745c3d"
      },
      "execution_count": null,
      "outputs": [
        {
          "output_type": "execute_result",
          "data": {
            "text/plain": [
              "'\\n\\n\\n                Happy PinkWink.\\n                PinkWink\\n\\n\\n                Happy Data Science.\\n                Python\\n\\n\\n\\n\\n                Data Science is funny.\\n            \\n\\n\\n\\n                All I need is Love.\\n            \\n\\n'"
            ],
            "application/vnd.google.colaboratory.intrinsic+json": {
              "type": "string"
            }
          },
          "metadata": {},
          "execution_count": 36
        }
      ]
    },
    {
      "cell_type": "code",
      "source": [
        "# a태그는 클릭이 가능함. 보통 버튼이나 하이퍼링크용으로 씀\n",
        "links = soup.find_all('a')\n",
        "links"
      ],
      "metadata": {
        "colab": {
          "base_uri": "https://localhost:8080/"
        },
        "id": "l4iSbSohahmJ",
        "outputId": "5d829aeb-39de-446d-e80f-0eec1e347fa4"
      },
      "execution_count": null,
      "outputs": [
        {
          "output_type": "execute_result",
          "data": {
            "text/plain": [
              "[<a href=\"http://www.pinkwink.kr\" id=\"pw-link\">PinkWink</a>,\n",
              " <a href=\"https://www.python.org\" id=\"py-link\">Python</a>]"
            ]
          },
          "metadata": {},
          "execution_count": 40
        }
      ]
    },
    {
      "cell_type": "code",
      "source": [
        "# links의 텍스트(내용물)과 연관링크(href) 펴현\n",
        "for each in links :\n",
        "  href = each['href']\n",
        "  text = each.string\n",
        "  print(text + ' -> '+href)"
      ],
      "metadata": {
        "colab": {
          "base_uri": "https://localhost:8080/"
        },
        "id": "VsudTRuIbHN4",
        "outputId": "a083deeb-cabd-4cac-f361-7bfc47ae0233"
      },
      "execution_count": null,
      "outputs": [
        {
          "output_type": "stream",
          "name": "stdout",
          "text": [
            "PinkWink -> http://www.pinkwink.kr\n",
            "Python -> https://www.python.org\n"
          ]
        }
      ]
    },
    {
      "cell_type": "code",
      "source": [
        "# url로 접근하기 위해 필요한 함수\n",
        "from urllib.request import urlopen"
      ],
      "metadata": {
        "id": "d1OGB69sbjDd"
      },
      "execution_count": null,
      "outputs": []
    },
    {
      "cell_type": "code",
      "source": [
        "url = \"http://info.finance.naver.com/marketindex/\"\n",
        "page = urlopen()"
      ],
      "metadata": {
        "id": "D_pgnkD8cpcC"
      },
      "execution_count": null,
      "outputs": []
    }
  ]
}